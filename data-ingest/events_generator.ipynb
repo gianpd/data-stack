{
 "cells": [
  {
   "cell_type": "code",
   "execution_count": null,
   "metadata": {},
   "outputs": [],
   "source": [
    "import os\n",
    "import sys\n",
    "import json\n",
    "\n",
    "import requests\n",
    "\n",
    "import time\n",
    "\n",
    "import pandas as pd"
   ]
  },
  {
   "cell_type": "code",
   "execution_count": null,
   "metadata": {},
   "outputs": [],
   "source": [
    "from IPython.core.interactiveshell import InteractiveShell\n",
    "InteractiveShell.ast_node_interactivity = \"all\""
   ]
  },
  {
   "cell_type": "code",
   "execution_count": null,
   "metadata": {},
   "outputs": [],
   "source": [
    "df = pd.read_csv(\"../data/events.csv\", index_col=0)\n",
    "len(df)\n",
    "df.head(3)"
   ]
  },
  {
   "cell_type": "code",
   "execution_count": null,
   "metadata": {},
   "outputs": [],
   "source": [
    "for row in df.iloc[:550].iterrows():\n",
    "    d = row[1].fillna('nan') #jsondecode does not allow NaN values\n",
    "    d = dict(d)\n",
    "    response = requests.post(\n",
    "        'http://localhost:5010/ingest/', \n",
    "        data=json.dumps(d, ensure_ascii=True, skipkeys=True),\n",
    "        headers={\"Content-type\": \"application/json\"})\n",
    "    time.sleep(.1)\n",
    "    # print(response.text)\n",
    "print('FINISHED')"
   ]
  },
  {
   "cell_type": "code",
   "execution_count": null,
   "metadata": {},
   "outputs": [],
   "source": [
    "from ast import literal_eval\n",
    "from functools import lru_cache, wraps\n",
    "from datetime import datetime, timedelta\n",
    "\n",
    "def timed_lru_cache(seconds: int, maxsize: int = 128):\n",
    "    def wrapper_cache(func):\n",
    "        func = lru_cache(maxsize=maxsize)(func)\n",
    "        func.lifetime = timedelta(seconds=seconds)\n",
    "        func.expiration = datetime.utcnow() + func.lifetime\n",
    "        @wraps(func)\n",
    "        def wrapped_func(*args, **kwargs):\n",
    "            if datetime.utcnow() >= func.expiration:\n",
    "                func.cache_clear()\n",
    "                func.expiration = datetime.utcnow() + func.lifetime\n",
    "            return func(*args, **kwargs)\n",
    "        return wrapped_func\n",
    "    return wrapper_cache\n",
    "\n",
    "\n",
    "@timed_lru_cache(seconds=5)\n",
    "def get_events(event):\n",
    "    return event\n"
   ]
  },
  {
   "cell_type": "code",
   "execution_count": null,
   "metadata": {},
   "outputs": [],
   "source": [
    "for row in df.iloc[:500].iterrows():\n",
    "    d = row[1].fillna('nan') #jsondecode does not allow NaN values\n",
    "    d = dict(d)\n",
    "    get_events(str(d))\n"
   ]
  },
  {
   "cell_type": "code",
   "execution_count": null,
   "metadata": {},
   "outputs": [],
   "source": []
  }
 ],
 "metadata": {
  "interpreter": {
   "hash": "ebb7f5bbb98572b15bff58c8aed07b0a474ef83fd7734f6b950989757680d4c6"
  },
  "kernelspec": {
   "display_name": "Python 3.10.4 ('.venvML')",
   "language": "python",
   "name": "python3"
  },
  "language_info": {
   "codemirror_mode": {
    "name": "ipython",
    "version": 3
   },
   "file_extension": ".py",
   "mimetype": "text/x-python",
   "name": "python",
   "nbconvert_exporter": "python",
   "pygments_lexer": "ipython3",
   "version": "3.10.4"
  },
  "orig_nbformat": 4
 },
 "nbformat": 4,
 "nbformat_minor": 2
}
