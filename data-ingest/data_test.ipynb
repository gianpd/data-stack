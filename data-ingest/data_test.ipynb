{
 "cells": [
  {
   "cell_type": "code",
   "execution_count": null,
   "metadata": {},
   "outputs": [],
   "source": [
    "import os\n",
    "import sys\n",
    "import pathlib\n",
    "import json\n",
    "\n",
    "import numpy as np\n",
    "import pandas as pd\n",
    "pd.set_option('display.max_columns', None)\n",
    "\n",
    "import seaborn as sns\n",
    "\n",
    "import scipy\n",
    "\n",
    "import matplotlib.pylab as plt\n",
    "plt.set_loglevel('error')\n",
    "%matplotlib inline\n",
    "\n",
    "import logging\n",
    "logging.basicConfig(stream=sys.stdout, format='%(asctime)-15s %(message)s',\n",
    "                level=logging.DEBUG, datefmt=None)\n",
    "logger = logging.getLogger(\"db-ingest\")\n",
    "\n",
    "from IPython.display import display, Markdown"
   ]
  },
  {
   "cell_type": "code",
   "execution_count": null,
   "metadata": {},
   "outputs": [],
   "source": [
    "from IPython.core.interactiveshell import InteractiveShell\n",
    "InteractiveShell.ast_node_interactivity = \"all\""
   ]
  },
  {
   "cell_type": "code",
   "execution_count": null,
   "metadata": {},
   "outputs": [],
   "source": [
    "users_df = pd.read_csv('../data/users.csv', index_col=0)\n",
    "users_df.head(3)\n",
    "events_df = pd.read_csv('../data/events.csv', index_col=0)\n",
    "events_df.head(3)"
   ]
  },
  {
   "cell_type": "code",
   "execution_count": null,
   "metadata": {},
   "outputs": [],
   "source": [
    "events_df.columns\n",
    "users_df.columns"
   ]
  },
  {
   "cell_type": "code",
   "execution_count": null,
   "metadata": {},
   "outputs": [],
   "source": [
    "users_df = users_df.loc[:, ['id', 'created', 'storage', 'plan']]\n",
    "users_df.head()\n",
    "events_df = events_df.loc[:, ['client.user_id', 'direction', 'size', 'status', 'time.backend', 'timestamp']]\n",
    "events_df.head()"
   ]
  },
  {
   "cell_type": "code",
   "execution_count": null,
   "metadata": {},
   "outputs": [],
   "source": [
    "### TRANSFER SPEED\n",
    "KB = 1e3\n",
    "mS = 1e-3\n",
    "events_df['size_KB'] = events_df['size'].apply(lambda x: x / KB)\n",
    "events_df['time.backend [s]'] = events_df['time.backend'].apply(lambda x: x / KB)\n",
    "events_df['transfer_speed [KB/s]'] = events_df['size_KB'] / events_df['time.backend [s]']\n",
    "events_df.loc[:5, ['size', 'size_KB', 'time.backend', 'time.backend [s]', 'transfer_speed [KB/s]']]"
   ]
  },
  {
   "cell_type": "code",
   "execution_count": null,
   "metadata": {},
   "outputs": [],
   "source": [
    "events_df.to_csv('../data/events_post.csv')\n",
    "users_df.to_csv('../data/users_post.csv')"
   ]
  },
  {
   "cell_type": "markdown",
   "metadata": {},
   "source": [
    "# Data Analysis: \n",
    "\n",
    "### Questions:\n",
    "1. Are users’ average upload speed and average download speed correlated?\n",
    "Bonus: what if we only include users with at least 20 upload and\n",
    "download events each?\n",
    "\n",
    "2. Are users with a storage plan of >= 100 GB more active (in terms of number\n",
    "of files uploaded) than users with a < 100 GB plan?\n",
    "\n",
    "3. Are files larger than 10MB uploaded faster than files smaller than 10MB?\n",
    "Bonus: is this consistent on a per-user basis?\n"
   ]
  },
  {
   "cell_type": "code",
   "execution_count": null,
   "metadata": {},
   "outputs": [],
   "source": [
    "len(events_df)\n",
    "len(users_df)\n",
    "df = events_df.merge(users_df, left_on='client.user_id', right_on='id', how='inner')\n",
    "df['storage [GB]'] = df.storage.apply(lambda x: x * 9.31 * 1e-10)\n",
    "df['storage [TB]'] = df.storage.apply(lambda x: x * 9.31 * 1e-12)\n",
    "len(df)\n",
    "df.columns\n",
    "df.head()"
   ]
  },
  {
   "cell_type": "code",
   "execution_count": null,
   "metadata": {},
   "outputs": [],
   "source": [
    "g = df.groupby(['client.user_id', 'direction']).agg({'transfer_speed [KB/s]': 'mean', 'direction': 'count'}).rename(columns={'direction': 'direction_count'})\n",
    "_ = sns.displot(g, x='transfer_speed [KB/s]', hue='direction', kind='kde')"
   ]
  },
  {
   "cell_type": "markdown",
   "metadata": {},
   "source": [
    "The mean upload transfer speed is less large than the download transfer speed, with short tails"
   ]
  },
  {
   "cell_type": "code",
   "execution_count": null,
   "metadata": {},
   "outputs": [],
   "source": [
    "mask = g.direction_count >= 20\n",
    "gg = g[mask]\n",
    "_ = sns.displot(gg, x='transfer_speed [KB/s]', hue='direction', kind='kde')"
   ]
  },
  {
   "cell_type": "code",
   "execution_count": null,
   "metadata": {},
   "outputs": [],
   "source": [
    "df['storage [GB]'].value_counts(dropna=False)"
   ]
  },
  {
   "cell_type": "code",
   "execution_count": null,
   "metadata": {},
   "outputs": [],
   "source": [
    "df['storage >= 100 GB'] = df['storage [GB]'] >= 100.0\n",
    "counts = df['storage >= 100 GB'].value_counts()\n",
    "display(Markdown(f'# value counts storage >= 100 GB: TRUE == {counts[1]} / FALSE == {counts[0]}'))\n",
    "display(Markdown(f'# users with a storage >= 100 GB: % {round(100 * counts[1] / counts[0], 2)}'))"
   ]
  },
  {
   "cell_type": "code",
   "execution_count": null,
   "metadata": {},
   "outputs": [],
   "source": [
    "g = df.groupby(['client.user_id', 'direction', 'storage >= 100 GB']).agg({'direction': 'count'}).\\\n",
    "    rename(columns={'direction': 'direction_count'})\n",
    "\n",
    "mask = g.index.get_level_values(1) == 'upload'\n",
    "display(Markdown(f'### number of events (both directions): {len(g)}'))\n",
    "display(Markdown(f'### number of upload events: {mask.sum()}'))\n",
    "\n",
    "_ = sns.displot(g[mask], x='direction_count', hue='storage >= 100 GB', kind='kde') # upload\n",
    "_ = plt.title('direction == upload')\n",
    "_ = sns.displot(g[~mask], x='direction_count', hue='storage >= 100 GB', kind='kde') # download\n",
    "_ = plt.title('direction == download')"
   ]
  },
  {
   "cell_type": "markdown",
   "metadata": {},
   "source": [
    "### Statistics correlation"
   ]
  },
  {
   "cell_type": "code",
   "execution_count": null,
   "metadata": {},
   "outputs": [],
   "source": [
    "g = df.groupby(['client.user_id', 'direction']).\\\n",
    "    agg({'transfer_speed [KB/s]': 'mean', 'direction': 'count'}).\\\n",
    "    rename(columns={'direction': 'direction_count'})\n",
    "g"
   ]
  },
  {
   "cell_type": "markdown",
   "metadata": {},
   "source": [
    "# Kolmogorov-Smirnov Test:\n",
    "The null-hypothesis is about the two distributions are the same. Thus, the lower the p-value the greater the statistical evidence the two distribution *are different*"
   ]
  },
  {
   "cell_type": "code",
   "execution_count": null,
   "metadata": {},
   "outputs": [],
   "source": [
    "mask = g.index.get_level_values(1) == 'upload'\n",
    "ats_upload = g[mask]\n",
    "ats_download = g[~mask]\n",
    "scipy.stats.ks_2samp(ats_upload['transfer_speed [KB/s]'], ats_download['transfer_speed [KB/s]'])"
   ]
  },
  {
   "cell_type": "code",
   "execution_count": null,
   "metadata": {},
   "outputs": [],
   "source": [
    "def ecdf(x):\n",
    "    xs = np.sort(x)\n",
    "    ys = np.arange(1, len(xs)+1)/float(len(xs))\n",
    "    return xs, ys\n",
    "\n",
    "\n",
    "_ = plt.plot(*ecdf(ats_upload['transfer_speed [KB/s]']), label='upload')\n",
    "_ = plt.plot(*ecdf(ats_download['transfer_speed [KB/s]']), label='download')\n",
    "_ = plt.title('ECDF for download/upload transfer_speed [KB/s]')\n",
    "_ = plt.legend()"
   ]
  },
  {
   "cell_type": "code",
   "execution_count": null,
   "metadata": {},
   "outputs": [],
   "source": [
    "ats_upload_gt20 = ats_upload[ats_upload.direction_count >= 20]\n",
    "ats_download_gt20 = ats_download[ats_download.direction_count >= 20]\n",
    "scipy.stats.ks_2samp(ats_upload_gt20['transfer_speed [KB/s]'], ats_download_gt20['transfer_speed [KB/s]'])"
   ]
  },
  {
   "cell_type": "code",
   "execution_count": null,
   "metadata": {},
   "outputs": [],
   "source": [
    "_ = plt.plot(*ecdf(ats_upload_gt20['transfer_speed [KB/s]']), label='upload')\n",
    "_ = plt.plot(*ecdf(ats_download_gt20['transfer_speed [KB/s]']), label='download')\n",
    "_ = plt.title('ECDF for download/upload transfer_speed [KB/s] (direction count >= 20)')\n",
    "_ = plt.legend()"
   ]
  }
 ],
 "metadata": {
  "interpreter": {
   "hash": "ebb7f5bbb98572b15bff58c8aed07b0a474ef83fd7734f6b950989757680d4c6"
  },
  "kernelspec": {
   "display_name": "Python 3.10.4 ('.venvML')",
   "language": "python",
   "name": "python3"
  },
  "language_info": {
   "codemirror_mode": {
    "name": "ipython",
    "version": 3
   },
   "file_extension": ".py",
   "mimetype": "text/x-python",
   "name": "python",
   "nbconvert_exporter": "python",
   "pygments_lexer": "ipython3",
   "version": "3.10.4"
  },
  "orig_nbformat": 4
 },
 "nbformat": 4,
 "nbformat_minor": 2
}
