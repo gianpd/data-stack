{
 "cells": [
  {
   "cell_type": "code",
   "execution_count": null,
   "metadata": {},
   "outputs": [],
   "source": [
    "import os\n",
    "import sys\n",
    "import pathlib\n",
    "import json\n",
    "\n",
    "import numpy as np\n",
    "import pandas as pd\n",
    "\n",
    "import logging\n",
    "logging.basicConfig(stream=sys.stdout, format='%(asctime)-15s %(message)s',\n",
    "                level=logging.DEBUG, datefmt=None)\n",
    "logger = logging.getLogger(\"db-ingest\")"
   ]
  },
  {
   "cell_type": "code",
   "execution_count": null,
   "metadata": {},
   "outputs": [],
   "source": [
    "from IPython.core.interactiveshell import InteractiveShell\n",
    "InteractiveShell.ast_node_interactivity = \"all\""
   ]
  },
  {
   "cell_type": "code",
   "execution_count": null,
   "metadata": {},
   "outputs": [],
   "source": [
    "users_df = pd.read_csv('../data/users.csv', index_col=0)\n",
    "users_df.head(3)\n",
    "events_df = pd.read_csv('../data/events.csv', index_col=0)\n",
    "events_df.head(3)"
   ]
  },
  {
   "cell_type": "code",
   "execution_count": null,
   "metadata": {},
   "outputs": [],
   "source": [
    "users_df = users_df.loc[:, ['id', 'created', 'storage', 'created']]\n",
    "users_df.head()\n",
    "events_df = events_df.loc[:, ['id', 'direction', 'size', 'time.backend', 'timestamp']]\n",
    "events_df.head()"
   ]
  },
  {
   "cell_type": "code",
   "execution_count": null,
   "metadata": {},
   "outputs": [],
   "source": [
    "### TRANSFER SPEED\n",
    "KB = 1e3\n",
    "mS = 1e-3\n",
    "events_df['size_KB'] = events_df['size'].apply(lambda x: x / KB)\n",
    "events_df['time.backend [s]'] = events_df['time.backend'].apply(lambda x: x * mS)\n",
    "events_df['transfer_speed [KB/s]'] = events_df['size_KB'] / events_df['time.backend.seconds']\n",
    "events_df.loc[:5, ['size', 'size_KB', 'time.backend', 'time.backend [s]', 'transfer_speed [KB/s]']]"
   ]
  },
  {
   "cell_type": "code",
   "execution_count": null,
   "metadata": {},
   "outputs": [],
   "source": [
    "events_df.to_csv('../data/events_post.csv')\n",
    "users_df.to_csv('../data/users_post.csv')"
   ]
  },
  {
   "cell_type": "code",
   "execution_count": null,
   "metadata": {},
   "outputs": [],
   "source": []
  }
 ],
 "metadata": {
  "interpreter": {
   "hash": "ebb7f5bbb98572b15bff58c8aed07b0a474ef83fd7734f6b950989757680d4c6"
  },
  "kernelspec": {
   "display_name": "Python 3.10.4 ('.venvML')",
   "language": "python",
   "name": "python3"
  },
  "language_info": {
   "codemirror_mode": {
    "name": "ipython",
    "version": 3
   },
   "file_extension": ".py",
   "mimetype": "text/x-python",
   "name": "python",
   "nbconvert_exporter": "python",
   "pygments_lexer": "ipython3",
   "version": "3.10.4"
  },
  "orig_nbformat": 4
 },
 "nbformat": 4,
 "nbformat_minor": 2
}
